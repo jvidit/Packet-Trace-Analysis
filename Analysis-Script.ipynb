{
 "cells": [
  {
   "cell_type": "code",
   "execution_count": 16,
   "metadata": {},
   "outputs": [],
   "source": [
    "import pandas as pd\n",
    "import numpy as np\n",
    "import re\n",
    "import matplotlib.pyplot as plt\n",
    "import math\n",
    "from statistics import mean, median\n",
    "import time"
   ]
  },
  {
   "cell_type": "code",
   "execution_count": 70,
   "metadata": {},
   "outputs": [],
   "source": [
    "file = \"./tc3.csv\"\n",
    "data = pd.read_csv(file)\n",
    "\n",
    "\n",
    "\n",
    "TCPdata = data[data[\"Protocol\"]==\"TCP\"]\n",
    "FTPdata = data[data[\"Protocol\"]==\"FTP\"]\n"
   ]
  },
  {
   "cell_type": "code",
   "execution_count": 71,
   "metadata": {},
   "outputs": [],
   "source": [
    "def plotCDF(inputList):\n",
    "    num_bins = 10000\n",
    "    counts, bin_edges = np.histogram (inputList, bins=num_bins, normed=True)\n",
    "    cdf = np.cumsum (counts)\n",
    "#     plt.plot (bin_edges[1:], cdf/cdf[-1],'-bD', markevery=markers_on)\n",
    "    plt.plot (bin_edges[1:], cdf/cdf[-1])"
   ]
  },
  {
   "cell_type": "markdown",
   "metadata": {},
   "source": [
    "## Part 1"
   ]
  },
  {
   "cell_type": "code",
   "execution_count": 72,
   "metadata": {},
   "outputs": [
    {
     "data": {
      "text/plain": [
       "(89, 510)"
      ]
     },
     "execution_count": 72,
     "metadata": {},
     "output_type": "execute_result"
    }
   ],
   "source": [
    "SYNdata = TCPdata[TCPdata[\"Info\"].str.contains(\"\\[SYN\\]\")]\n",
    "SYNdataDest = SYNdata[SYNdata[\"Info\"].str.contains(\">  21\")]\n",
    "UniqueServer = set(SYNdataDest[\"Destination\"].unique().tolist())\n",
    "UniqueClient = set(SYNdataDest[\"Source\"].unique().tolist())\n",
    "len(UniqueServer), len(UniqueClient)"
   ]
  },
  {
   "cell_type": "markdown",
   "metadata": {},
   "source": [
    "## Part 2"
   ]
  },
  {
   "cell_type": "code",
   "execution_count": 73,
   "metadata": {},
   "outputs": [
    {
     "name": "stderr",
     "output_type": "stream",
     "text": [
      "/usr/local/Cellar/ipython/7.8.0/libexec/vendor/lib/python3.7/site-packages/ipykernel_launcher.py:6: SettingWithCopyWarning: \n",
      "A value is trying to be set on a copy of a slice from a DataFrame.\n",
      "Try using .loc[row_indexer,col_indexer] = value instead\n",
      "\n",
      "See the caveats in the documentation: http://pandas.pydata.org/pandas-docs/stable/user_guide/indexing.html#returning-a-view-versus-a-copy\n",
      "  \n",
      "/usr/local/Cellar/ipython/7.8.0/libexec/vendor/lib/python3.7/site-packages/ipykernel_launcher.py:7: SettingWithCopyWarning: \n",
      "A value is trying to be set on a copy of a slice from a DataFrame.\n",
      "Try using .loc[row_indexer,col_indexer] = value instead\n",
      "\n",
      "See the caveats in the documentation: http://pandas.pydata.org/pandas-docs/stable/user_guide/indexing.html#returning-a-view-versus-a-copy\n",
      "  import sys\n"
     ]
    },
    {
     "data": {
      "text/plain": [
       "3280"
      ]
     },
     "execution_count": 73,
     "metadata": {},
     "output_type": "execute_result"
    }
   ],
   "source": [
    "# data[\"SrcPort\"] = data[\"Info\"][data[\"Info\"].str.extract(pat = '(\\d+)  >  (\\d+)')\n",
    "tempList = TCPdata[\"Info\"].tolist()\n",
    "srcList = [string[:string.find(\"[\")].strip().split('  >  ')[0] for string in tempList]\n",
    "destList = [string[:string.find(\"[\")].strip().split('  >  ')[1] for string in tempList]\n",
    "srcList, destList\n",
    "TCPdata[\"SrcPort\"] = srcList\n",
    "TCPdata[\"DestPort\"] = destList\n",
    "uniqueTCPflows = TCPdata.drop_duplicates(subset = [\"Source\", \"Destination\", \"SrcPort\", \"DestPort\"])\n",
    "len(uniqueTCPflows)\n",
    "\n"
   ]
  },
  {
   "cell_type": "markdown",
   "metadata": {},
   "source": [
    "## Part 3"
   ]
  },
  {
   "cell_type": "code",
   "execution_count": 74,
   "metadata": {
    "scrolled": true
   },
   "outputs": [
    {
     "data": {
      "text/plain": [
       "Text(0.5, 1.0, 'TCP traffic profile')"
      ]
     },
     "execution_count": 74,
     "metadata": {},
     "output_type": "execute_result"
    },
    {
     "data": {
      "image/png": "[encoded data removed]",
      "text/plain": [
       "<Figure size 432x288 with 1 Axes>"
      ]
     },
     "metadata": {
      "needs_background": "light"
     },
     "output_type": "display_data"
    }
   ],
   "source": [
    "TCPfrequency = {}\n",
    "for i in range(24):\n",
    "    TCPfrequency[i] = 0\n",
    "TCPflowsToServers = uniqueTCPflows[uniqueTCPflows[\"DestPort\"]==\"21\"]\n",
    "timeList = TCPflowsToServers[\"Time\"].tolist()\n",
    "timeList = [int(time // 3600) for time in timeList]\n",
    "for time in timeList:\n",
    "    TCPfrequency[time] += 1\n",
    "TCPfrequency\n",
    "\n",
    "plt.bar(TCPfrequency.keys(), TCPfrequency.values(), 0.5, color='g')\n",
    "plt.xlabel('Time of day')\n",
    "plt.ylabel('No. of connections')\n",
    "plt.title('TCP traffic profile')"
   ]
  },
  {
   "cell_type": "markdown",
   "metadata": {},
   "source": [
    "## Part 4 and 5"
   ]
  },
  {
   "cell_type": "code",
   "execution_count": 8,
   "metadata": {},
   "outputs": [
    {
     "name": "stdout",
     "output_type": "stream",
     "text": [
      "1667 2432 2117\n"
     ]
    }
   ],
   "source": [
    "SYNdata = TCPdata[TCPdata[\"Info\"].str.contains(\"\\[SYN\\]\")]# | TCPdata[\"Info\"].str.contains(\"\\[FIN\\]\")]\n",
    "SYNdata = SYNdata[SYNdata[\"Info\"].str.contains(\">  21\")]\n",
    "FINdata = TCPdata[TCPdata[\"Info\"].str.contains(\"\\[FIN, ACK\\]\")]# | TCPdata[\"Info\"].str.contains(\"\\[FIN\\]\")]\n",
    "RSTdata = TCPdata[TCPdata[\"Info\"].str.contains(\"\\[RST\\]\")]# | TCPdata[\"Info\"].str.contains(\"\\[FIN\\]\")]\n",
    "\n",
    "\n",
    "\n",
    "print(len(SYNdata), len(FINdata), len(RSTdata))"
   ]
  },
  {
   "cell_type": "code",
   "execution_count": 9,
   "metadata": {
    "scrolled": true
   },
   "outputs": [
    {
     "ename": "KeyboardInterrupt",
     "evalue": "",
     "output_type": "error",
     "traceback": [
      "\u001b[0;31m---------------------------------------------------------------------------\u001b[0m",
      "\u001b[0;31mKeyboardInterrupt\u001b[0m                         Traceback (most recent call last)",
      "\u001b[0;32m<ipython-input-9-87ceeadd3f3b>\u001b[0m in \u001b[0;36m<module>\u001b[0;34m\u001b[0m\n\u001b[1;32m     19\u001b[0m     \u001b[0mvalidFIN2\u001b[0m \u001b[0;34m=\u001b[0m \u001b[0mFINdata\u001b[0m\u001b[0;34m[\u001b[0m\u001b[0;34m(\u001b[0m\u001b[0mFINdata\u001b[0m\u001b[0;34m[\u001b[0m\u001b[0;34m\"Source\"\u001b[0m\u001b[0;34m]\u001b[0m \u001b[0;34m==\u001b[0m \u001b[0mDest\u001b[0m\u001b[0;34m)\u001b[0m \u001b[0;34m&\u001b[0m \u001b[0;34m(\u001b[0m\u001b[0mFINdata\u001b[0m\u001b[0;34m[\u001b[0m\u001b[0;34m\"Destination\"\u001b[0m\u001b[0;34m]\u001b[0m \u001b[0;34m==\u001b[0m \u001b[0mSrc\u001b[0m\u001b[0;34m)\u001b[0m \u001b[0;34m&\u001b[0m \u001b[0;34m(\u001b[0m\u001b[0mFINdata\u001b[0m\u001b[0;34m[\u001b[0m\u001b[0;34m\"SrcPort\"\u001b[0m\u001b[0;34m]\u001b[0m \u001b[0;34m==\u001b[0m \u001b[0mDestPort\u001b[0m\u001b[0;34m)\u001b[0m \u001b[0;34m&\u001b[0m \u001b[0;34m(\u001b[0m\u001b[0mFINdata\u001b[0m\u001b[0;34m[\u001b[0m\u001b[0;34m\"DestPort\"\u001b[0m\u001b[0;34m]\u001b[0m \u001b[0;34m==\u001b[0m \u001b[0mSrcPort\u001b[0m\u001b[0;34m)\u001b[0m \u001b[0;34m&\u001b[0m \u001b[0;34m(\u001b[0m\u001b[0mFINdata\u001b[0m\u001b[0;34m[\u001b[0m\u001b[0;34m\"Time\"\u001b[0m\u001b[0;34m]\u001b[0m\u001b[0;34m>\u001b[0m\u001b[0mstartTime\u001b[0m\u001b[0;34m)\u001b[0m\u001b[0;34m]\u001b[0m\u001b[0;34m\u001b[0m\u001b[0;34m\u001b[0m\u001b[0m\n\u001b[1;32m     20\u001b[0m     \u001b[0mvalidRST1\u001b[0m \u001b[0;34m=\u001b[0m \u001b[0mRSTdata\u001b[0m\u001b[0;34m[\u001b[0m\u001b[0;34m(\u001b[0m\u001b[0mRSTdata\u001b[0m\u001b[0;34m[\u001b[0m\u001b[0;34m\"Source\"\u001b[0m\u001b[0;34m]\u001b[0m \u001b[0;34m==\u001b[0m \u001b[0mSrc\u001b[0m\u001b[0;34m)\u001b[0m \u001b[0;34m&\u001b[0m \u001b[0;34m(\u001b[0m\u001b[0mRSTdata\u001b[0m\u001b[0;34m[\u001b[0m\u001b[0;34m\"Destination\"\u001b[0m\u001b[0;34m]\u001b[0m \u001b[0;34m==\u001b[0m \u001b[0mDest\u001b[0m\u001b[0;34m)\u001b[0m \u001b[0;34m&\u001b[0m \u001b[0;34m(\u001b[0m\u001b[0mRSTdata\u001b[0m\u001b[0;34m[\u001b[0m\u001b[0;34m\"SrcPort\"\u001b[0m\u001b[0;34m]\u001b[0m \u001b[0;34m==\u001b[0m \u001b[0mSrcPort\u001b[0m\u001b[0;34m)\u001b[0m \u001b[0;34m&\u001b[0m \u001b[0;34m(\u001b[0m\u001b[0mRSTdata\u001b[0m\u001b[0;34m[\u001b[0m\u001b[0;34m\"DestPort\"\u001b[0m\u001b[0;34m]\u001b[0m \u001b[0;34m==\u001b[0m \u001b[0mDestPort\u001b[0m\u001b[0;34m)\u001b[0m \u001b[0;34m&\u001b[0m \u001b[0;34m(\u001b[0m\u001b[0mRSTdata\u001b[0m\u001b[0;34m[\u001b[0m\u001b[0;34m\"Time\"\u001b[0m\u001b[0;34m]\u001b[0m\u001b[0;34m>\u001b[0m\u001b[0mstartTime\u001b[0m\u001b[0;34m)\u001b[0m\u001b[0;34m]\u001b[0m\u001b[0;34m\u001b[0m\u001b[0;34m\u001b[0m\u001b[0m\n\u001b[0;32m---> 21\u001b[0;31m     \u001b[0mvalidRST2\u001b[0m \u001b[0;34m=\u001b[0m \u001b[0mRSTdata\u001b[0m\u001b[0;34m[\u001b[0m\u001b[0;34m(\u001b[0m\u001b[0mRSTdata\u001b[0m\u001b[0;34m[\u001b[0m\u001b[0;34m\"Source\"\u001b[0m\u001b[0;34m]\u001b[0m \u001b[0;34m==\u001b[0m \u001b[0mDest\u001b[0m\u001b[0;34m)\u001b[0m \u001b[0;34m&\u001b[0m \u001b[0;34m(\u001b[0m\u001b[0mRSTdata\u001b[0m\u001b[0;34m[\u001b[0m\u001b[0;34m\"Destination\"\u001b[0m\u001b[0;34m]\u001b[0m \u001b[0;34m==\u001b[0m \u001b[0mSrc\u001b[0m\u001b[0;34m)\u001b[0m \u001b[0;34m&\u001b[0m \u001b[0;34m(\u001b[0m\u001b[0mRSTdata\u001b[0m\u001b[0;34m[\u001b[0m\u001b[0;34m\"SrcPort\"\u001b[0m\u001b[0;34m]\u001b[0m \u001b[0;34m==\u001b[0m \u001b[0mDestPort\u001b[0m\u001b[0;34m)\u001b[0m \u001b[0;34m&\u001b[0m \u001b[0;34m(\u001b[0m\u001b[0mRSTdata\u001b[0m\u001b[0;34m[\u001b[0m\u001b[0;34m\"DestPort\"\u001b[0m\u001b[0;34m]\u001b[0m \u001b[0;34m==\u001b[0m \u001b[0mSrcPort\u001b[0m\u001b[0;34m)\u001b[0m \u001b[0;34m&\u001b[0m \u001b[0;34m(\u001b[0m\u001b[0mRSTdata\u001b[0m\u001b[0;34m[\u001b[0m\u001b[0;34m\"Time\"\u001b[0m\u001b[0;34m]\u001b[0m\u001b[0;34m>\u001b[0m\u001b[0mstartTime\u001b[0m\u001b[0;34m)\u001b[0m\u001b[0;34m]\u001b[0m\u001b[0;34m\u001b[0m\u001b[0;34m\u001b[0m\u001b[0m\n\u001b[0m\u001b[1;32m     22\u001b[0m \u001b[0;34m\u001b[0m\u001b[0m\n\u001b[1;32m     23\u001b[0m     \u001b[0mvalidFrames\u001b[0m \u001b[0;34m=\u001b[0m  \u001b[0mpd\u001b[0m\u001b[0;34m.\u001b[0m\u001b[0mconcat\u001b[0m\u001b[0;34m(\u001b[0m\u001b[0;34m[\u001b[0m\u001b[0mvalidFIN1\u001b[0m\u001b[0;34m,\u001b[0m \u001b[0mvalidFIN2\u001b[0m\u001b[0;34m,\u001b[0m \u001b[0mvalidRST1\u001b[0m\u001b[0;34m,\u001b[0m \u001b[0mvalidRST2\u001b[0m\u001b[0;34m]\u001b[0m\u001b[0;34m)\u001b[0m\u001b[0;34m\u001b[0m\u001b[0;34m\u001b[0m\u001b[0m\n",
      "\u001b[0;32m/usr/local/lib/python3.7/site-packages/pandas/core/frame.py\u001b[0m in \u001b[0;36m__getitem__\u001b[0;34m(self, key)\u001b[0m\n\u001b[1;32m   2951\u001b[0m         \u001b[0mkey\u001b[0m \u001b[0;34m=\u001b[0m \u001b[0mcom\u001b[0m\u001b[0;34m.\u001b[0m\u001b[0mapply_if_callable\u001b[0m\u001b[0;34m(\u001b[0m\u001b[0mkey\u001b[0m\u001b[0;34m,\u001b[0m \u001b[0mself\u001b[0m\u001b[0;34m)\u001b[0m\u001b[0;34m\u001b[0m\u001b[0;34m\u001b[0m\u001b[0m\n\u001b[1;32m   2952\u001b[0m \u001b[0;34m\u001b[0m\u001b[0m\n\u001b[0;32m-> 2953\u001b[0;31m         \u001b[0;32mif\u001b[0m \u001b[0mis_hashable\u001b[0m\u001b[0;34m(\u001b[0m\u001b[0mkey\u001b[0m\u001b[0;34m)\u001b[0m\u001b[0;34m:\u001b[0m\u001b[0;34m\u001b[0m\u001b[0;34m\u001b[0m\u001b[0m\n\u001b[0m\u001b[1;32m   2954\u001b[0m             \u001b[0;31m# shortcut if the key is in columns\u001b[0m\u001b[0;34m\u001b[0m\u001b[0;34m\u001b[0m\u001b[0;34m\u001b[0m\u001b[0m\n\u001b[1;32m   2955\u001b[0m             \u001b[0;32mif\u001b[0m \u001b[0mself\u001b[0m\u001b[0;34m.\u001b[0m\u001b[0mcolumns\u001b[0m\u001b[0;34m.\u001b[0m\u001b[0mis_unique\u001b[0m \u001b[0;32mand\u001b[0m \u001b[0mkey\u001b[0m \u001b[0;32min\u001b[0m \u001b[0mself\u001b[0m\u001b[0;34m.\u001b[0m\u001b[0mcolumns\u001b[0m\u001b[0;34m:\u001b[0m\u001b[0;34m\u001b[0m\u001b[0;34m\u001b[0m\u001b[0m\n",
      "\u001b[0;32m/usr/local/lib/python3.7/site-packages/pandas/core/dtypes/inference.py\u001b[0m in \u001b[0;36mis_hashable\u001b[0;34m(obj)\u001b[0m\n\u001b[1;32m    414\u001b[0m \u001b[0;34m\u001b[0m\u001b[0m\n\u001b[1;32m    415\u001b[0m     \u001b[0;32mtry\u001b[0m\u001b[0;34m:\u001b[0m\u001b[0;34m\u001b[0m\u001b[0;34m\u001b[0m\u001b[0m\n\u001b[0;32m--> 416\u001b[0;31m         \u001b[0mhash\u001b[0m\u001b[0;34m(\u001b[0m\u001b[0mobj\u001b[0m\u001b[0;34m)\u001b[0m\u001b[0;34m\u001b[0m\u001b[0;34m\u001b[0m\u001b[0m\n\u001b[0m\u001b[1;32m    417\u001b[0m     \u001b[0;32mexcept\u001b[0m \u001b[0mTypeError\u001b[0m\u001b[0;34m:\u001b[0m\u001b[0;34m\u001b[0m\u001b[0;34m\u001b[0m\u001b[0m\n\u001b[1;32m    418\u001b[0m         \u001b[0;32mreturn\u001b[0m \u001b[0;32mFalse\u001b[0m\u001b[0;34m\u001b[0m\u001b[0;34m\u001b[0m\u001b[0m\n",
      "\u001b[0;31mKeyboardInterrupt\u001b[0m: "
     ]
    }
   ],
   "source": [
    "timeList = []\n",
    "ClientDataList = []              #sent by client\n",
    "ServerDataList = []              #sent by server\n",
    "FlowData = []\n",
    "# for i in range(len(SYNdata)):\n",
    "for i,row in SYNdata.iterrows():\n",
    "#     startTime = SYNdata.iloc[i,1]\n",
    "#     Src = SYNdata.iloc[i,2]\n",
    "#     Dest = SYNdata.iloc[i,3]\n",
    "#     SrcPort = SYNdata.iloc[i,7]\n",
    "#     DestPort = SYNdata.iloc[i,8]\n",
    "    startTime = row[1]\n",
    "    Src = row[2]\n",
    "    Dest = row[3]\n",
    "    SrcPort = row[7]\n",
    "    DestPort = row[8]\n",
    "\n",
    "    validFIN1 = FINdata[(FINdata[\"Source\"] == Src) & (FINdata[\"Destination\"] == Dest) & (FINdata[\"SrcPort\"] == SrcPort) & (FINdata[\"DestPort\"] == DestPort) & (FINdata[\"Time\"]>startTime)]\n",
    "    validFIN2 = FINdata[(FINdata[\"Source\"] == Dest) & (FINdata[\"Destination\"] == Src) & (FINdata[\"SrcPort\"] == DestPort) & (FINdata[\"DestPort\"] == SrcPort) & (FINdata[\"Time\"]>startTime)]\n",
    "    validRST1 = RSTdata[(RSTdata[\"Source\"] == Src) & (RSTdata[\"Destination\"] == Dest) & (RSTdata[\"SrcPort\"] == SrcPort) & (RSTdata[\"DestPort\"] == DestPort) & (RSTdata[\"Time\"]>startTime)]\n",
    "    validRST2 = RSTdata[(RSTdata[\"Source\"] == Dest) & (RSTdata[\"Destination\"] == Src) & (RSTdata[\"SrcPort\"] == DestPort) & (RSTdata[\"DestPort\"] == SrcPort) & (RSTdata[\"Time\"]>startTime)]\n",
    "    \n",
    "    validFrames =  pd.concat([validFIN1, validFIN2, validRST1, validRST2])\n",
    "    \n",
    "#     print(SYNdata.iloc[i])\n",
    "    if(len(validFrames)==0):\n",
    "        continue\n",
    "    \n",
    "    \n",
    "    endTime = validFrames['Time'].min()\n",
    "\n",
    "    ClientDataTable = TCPdata[(TCPdata[\"Source\"] == Src) & (TCPdata[\"Destination\"] == Dest) & (TCPdata[\"SrcPort\"] == SrcPort) & (TCPdata[\"DestPort\"] == DestPort) & (TCPdata[\"Time\"]>=startTime) & (TCPdata[\"Time\"]<=endTime)]\n",
    "    ServerDataTable = TCPdata[(TCPdata[\"Source\"] == Dest) & (TCPdata[\"Destination\"] == Src) & (TCPdata[\"SrcPort\"] == DestPort) & (TCPdata[\"DestPort\"] == SrcPort) & (TCPdata[\"Time\"]>=startTime) & (TCPdata[\"Time\"]<=endTime)]\n",
    "    \n",
    "    \n",
    "    flowTime = endTime - startTime\n",
    "    ClientData = ClientDataTable['Length'].sum()\n",
    "    ServerData = ServerDataTable['Length'].sum()\n",
    "\n",
    "\n",
    "    \n",
    "    timeList.append(flowTime)\n",
    "    ClientDataList.append(ClientData)\n",
    "    ServerDataList.append(ServerData)\n",
    "\n",
    "\n",
    "#     print([flowTime, ClientData, ServerData])\n",
    "    FlowData.append([flowTime, ClientData, ServerData])\n",
    "\n",
    "    \n"
   ]
  },
  {
   "cell_type": "code",
   "execution_count": null,
   "metadata": {},
   "outputs": [],
   "source": [
    "\n",
    "# timeList = timeList[:math.ceil(len(timeList))]\n",
    "plotCDF(timeList)\n",
    "plt.xlim(0, 1000)\n",
    "plt.ylim(0, 1)\n",
    "plt.xlabel('Connection duration(sec)')\n",
    "plt.ylabel('P(Connection Duration)<X')\n",
    "plt.title('Connection Duration CDF')\n",
    "# plt.plot(xs, ys, '-gD', markevery=markers_on)\n",
    "\n",
    "print(median(timeList),mean(timeList))"
   ]
  },
  {
   "cell_type": "code",
   "execution_count": null,
   "metadata": {},
   "outputs": [],
   "source": [
    "tempData = FlowData\n",
    "tempData = FlowData[1:2000]\n",
    "xData = [i[0] for i in tempData]\n",
    "yData = [i[1] for i in tempData]\n",
    "\n",
    "plt.xlim(0,2000)\n",
    "plt.scatter(xData, yData)\n",
    "plt.show()\n",
    "\n",
    "print(np.corrcoef(xData, yData)[0, 1])"
   ]
  },
  {
   "cell_type": "markdown",
   "metadata": {},
   "source": [
    "## Part 6 ... note that SYN data always sends to server"
   ]
  },
  {
   "cell_type": "code",
   "execution_count": 81,
   "metadata": {},
   "outputs": [
    {
     "name": "stdout",
     "output_type": "stream",
     "text": [
      "['21']\n",
      "51.34636656216217 19.58248900000035\n"
     ]
    },
    {
     "name": "stderr",
     "output_type": "stream",
     "text": [
      "/usr/local/Cellar/ipython/7.8.0/libexec/vendor/lib/python3.7/site-packages/ipykernel_launcher.py:3: VisibleDeprecationWarning: Passing `normed=True` on non-uniform bins has always been broken, and computes neither the probability density function nor the probability mass function. The result is only correct if the bins are uniform, when density=True will produce the same result anyway. The argument will be removed in a future version of numpy.\n",
      "  This is separate from the ipykernel package so we can avoid doing imports until\n"
     ]
    },
    {
     "data": {
      "image/png": "[encoded data removed]",
      "text/plain": [
       "<Figure size 432x288 with 1 Axes>"
      ]
     },
     "metadata": {
      "needs_background": "light"
     },
     "output_type": "display_data"
    }
   ],
   "source": [
    "SYNdata = TCPdata[TCPdata[\"Info\"].str.contains(\"\\[SYN\\]\")]\n",
    "\n",
    "print(SYNdata.DestPort.unique().tolist())#head(), end=\"\\n\\n\")\n",
    "# print(SYNdata.tail(), end=\"\\n\\n\")\n",
    "\n",
    "SYNinterArrivalTimes = SYNdata.Time.tolist()\n",
    "# print(SYNinterArrivalTimes[:10], SYNinterArrivalTimes[-10:], end=\"\\n\\n\")\n",
    "SYNinterArrivalTimes = [SYNinterArrivalTimes[0]] + [SYNinterArrivalTimes[i+1]-SYNinterArrivalTimes[i] for i in range(len(SYNinterArrivalTimes)-1) ]\n",
    "# print(SYNinterArrivalTimes[:10], SYNinterArrivalTimes[-10:], end=\"\\n\\n\")\n",
    "meanTime, medianTime = mean(SYNinterArrivalTimes), median(SYNinterArrivalTimes)\n",
    "plotCDF(SYNinterArrivalTimes)\n",
    "print(meanTime, medianTime)\n",
    "SYNdata\n",
    "\n",
    "SYNinterArrivalTimes.sort()\n",
    "\n",
    "file1 = open(\"SYNarrival.txt\",\"w+\") \n",
    "for i in range(len(SYNinterArrivalTimes)):\n",
    "    file1.write(str(SYNinterArrivalTimes[i])+\"\\n\")\n",
    "    if(SYNinterArrivalTimes[i]>300):\n",
    "        break\n",
    "file1.close() \n"
   ]
  },
  {
   "cell_type": "markdown",
   "metadata": {},
   "source": [
    "## Part 7"
   ]
  },
  {
   "cell_type": "code",
   "execution_count": 83,
   "metadata": {},
   "outputs": [
    {
     "name": "stdout",
     "output_type": "stream",
     "text": [
      "['21']\n",
      "1.17464847025686 0.553568000004816\n"
     ]
    },
    {
     "name": "stderr",
     "output_type": "stream",
     "text": [
      "/usr/local/Cellar/ipython/7.8.0/libexec/vendor/lib/python3.7/site-packages/ipykernel_launcher.py:3: VisibleDeprecationWarning: Passing `normed=True` on non-uniform bins has always been broken, and computes neither the probability density function nor the probability mass function. The result is only correct if the bins are uniform, when density=True will produce the same result anyway. The argument will be removed in a future version of numpy.\n",
      "  This is separate from the ipykernel package so we can avoid doing imports until\n"
     ]
    },
    {
     "data": {
      "image/png": "[encoded data removed]",
      "text/plain": [
       "<Figure size 432x288 with 1 Axes>"
      ]
     },
     "metadata": {
      "needs_background": "light"
     },
     "output_type": "display_data"
    }
   ],
   "source": [
    "toServerData = TCPdata[TCPdata[\"DestPort\"] == \"21\"]\n",
    "\n",
    "print(SYNdata.DestPort.unique().tolist())#head(), end=\"\\n\\n\")\n",
    "\n",
    "serverInterArrivalTimes = toServerData.Time.tolist()\n",
    "# print(serverInterArrivalTimes[0:30])\n",
    "serverInterArrivalTimes = [serverInterArrivalTimes[0]] + [serverInterArrivalTimes[i+1]-serverInterArrivalTimes[i] for i in range(len(serverInterArrivalTimes)-1) ]\n",
    "# print(serverInterArrivalTimes[0:30])\n",
    "\n",
    "\n",
    "serverInterArrivalTimes = serverInterArrivalTimes[1:]\n",
    "meanTime, medianTime = mean(serverInterArrivalTimes), median(serverInterArrivalTimes)\n",
    "plotCDF(serverInterArrivalTimes)\n",
    "print(meanTime, medianTime)\n",
    "\n",
    "serverInterArrivalTimes.sort()\n",
    "file1 = open(\"serverArrival.txt\",\"w+\") \n",
    "for i in range(len(serverInterArrivalTimes)):\n",
    "    file1.write(str(serverInterArrivalTimes[i])+\"\\n\")\n",
    "    if(serverInterArrivalTimes[i]>7):\n",
    "        break\n",
    "file1.close() "
   ]
  },
  {
   "cell_type": "markdown",
   "metadata": {},
   "source": [
    "## Part 8 ... plot seperately"
   ]
  },
  {
   "cell_type": "code",
   "execution_count": 77,
   "metadata": {},
   "outputs": [
    {
     "name": "stderr",
     "output_type": "stream",
     "text": [
      "/usr/local/Cellar/ipython/7.8.0/libexec/vendor/lib/python3.7/site-packages/ipykernel_launcher.py:3: VisibleDeprecationWarning: Passing `normed=True` on non-uniform bins has always been broken, and computes neither the probability density function nor the probability mass function. The result is only correct if the bins are uniform, when density=True will produce the same result anyway. The argument will be removed in a future version of numpy.\n",
      "  This is separate from the ipykernel package so we can avoid doing imports until\n"
     ]
    },
    {
     "data": {
      "image/png": "[encoded data removed]",
      "text/plain": [
       "<Figure size 432x288 with 1 Axes>"
      ]
     },
     "metadata": {
      "needs_background": "light"
     },
     "output_type": "display_data"
    }
   ],
   "source": [
    "toServerData = TCPdata[TCPdata[\"DestPort\"] == \"21\"]\n",
    "fromServerData = TCPdata[TCPdata[\"SrcPort\"] == \"21\"]\n",
    "\n",
    "\n",
    "toServerLengths = toServerData.Length.tolist()\n",
    "fromServerLengths = fromServerData.Length.tolist()\n",
    "\n",
    "# toServerMeanTime, toServerMedianTime = mean(toServerLengths), median(toServerLengths)\n",
    "# fromServerMeanTime, fromServerMedianTime = mean(fromServerLengths), median(fromServerLengths)\n",
    "\n",
    "plotCDF(toServerLengths)\n",
    "plotCDF(fromServerLengths)"
   ]
  },
  {
   "cell_type": "code",
   "execution_count": null,
   "metadata": {},
   "outputs": [],
   "source": []
  },
  {
   "cell_type": "code",
   "execution_count": 78,
   "metadata": {},
   "outputs": [],
   "source": [
    "#iterrows() -> 156.250s, for() -> 262.286s"
   ]
  },
  {
   "cell_type": "code",
   "execution_count": null,
   "metadata": {},
   "outputs": [],
   "source": []
  },
  {
   "cell_type": "code",
   "execution_count": null,
   "metadata": {},
   "outputs": [],
   "source": []
  },
  {
   "cell_type": "code",
   "execution_count": null,
   "metadata": {},
   "outputs": [],
   "source": []
  },
  {
   "cell_type": "code",
   "execution_count": null,
   "metadata": {},
   "outputs": [],
   "source": []
  },
  {
   "cell_type": "code",
   "execution_count": null,
   "metadata": {},
   "outputs": [],
   "source": []
  },
  {
   "cell_type": "code",
   "execution_count": null,
   "metadata": {},
   "outputs": [],
   "source": []
  },
  {
   "cell_type": "code",
   "execution_count": null,
   "metadata": {},
   "outputs": [],
   "source": []
  },
  {
   "cell_type": "code",
   "execution_count": null,
   "metadata": {},
   "outputs": [],
   "source": []
  }
 ],
 "metadata": {
  "kernelspec": {
   "display_name": "Python 3",
   "language": "python",
   "name": "python3"
  },
  "language_info": {
   "codemirror_mode": {
    "name": "ipython",
    "version": 3
   },
   "file_extension": ".py",
   "mimetype": "text/x-python",
   "name": "python",
   "nbconvert_exporter": "python",
   "pygments_lexer": "ipython3",
   "version": "3.7.4"
  }
 },
 "nbformat": 4,
 "nbformat_minor": 2
}
